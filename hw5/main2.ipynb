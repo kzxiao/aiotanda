{
 "cells": [
  {
   "cell_type": "markdown",
   "metadata": {},
   "source": [
    "### MNIST Classification Problem\n",
    "\n",
    "To solve in dense and convolution."
   ]
  },
  {
   "cell_type": "code",
   "execution_count": null,
   "metadata": {
    "trusted": true
   },
   "outputs": [],
   "source": [
    "!pip install -qqq pytorch_lightning"
   ]
  },
  {
   "cell_type": "code",
   "execution_count": null,
   "metadata": {
    "_cell_guid": "b1076dfc-b9ad-4769-8c92-a6c4dae69d19",
    "_uuid": "8f2839f25d086af736a60e9eeb907d3b93b6e0e5",
    "execution": {
     "iopub.execute_input": "2024-12-07T17:00:58.202346Z",
     "iopub.status.busy": "2024-12-07T17:00:58.201689Z",
     "iopub.status.idle": "2024-12-07T17:00:58.636318Z",
     "shell.execute_reply": "2024-12-07T17:00:58.635152Z",
     "shell.execute_reply.started": "2024-12-07T17:00:58.202307Z"
    },
    "trusted": true
   },
   "outputs": [],
   "source": [
    "import tensorflow as tf\n",
    "from sklearn.model_selection import train_test_split\n",
    "from keras.datasets import mnist\n",
    "from keras.utils import to_categorical\n",
    "from keras.models import Sequential\n",
    "from keras.layers import Flatten, Dense, BatchNormalization, Dropout, Conv2D, MaxPooling2D\n",
    "from keras.callbacks import TensorBoard, EarlyStopping\n",
    "\n",
    "(x_train, y_train), (x_test, y_test) = mnist.load_data()\n",
    "x_train, x_val, y_train, y_val = train_test_split(x_train,y_train,test_size=0.17,random_state=42)\n",
    "\n",
    "x_train = x_train.reshape(-1, 28, 28, 1).astype('float32') / 255.0\n",
    "x_val = x_val.reshape(-1, 28, 28, 1).astype('float32') / 255.0\n",
    "x_test = x_test.reshape(-1, 28, 28, 1).astype('float32') / 255.0\n",
    "y_train = to_categorical(y_train, 10)\n",
    "y_val = to_categorical(y_val, 10)\n",
    "y_test = to_categorical(y_test, 10)\n",
    "\n",
    "batch_size = 32\n",
    "max_epochs = 5\n"
   ]
  },
  {
   "cell_type": "markdown",
   "metadata": {},
   "source": [
    "1. Building models of dense and convolution.  \n",
    "2. add batch normalzation, dropout and early stopping."
   ]
  },
  {
   "cell_type": "code",
   "execution_count": 3,
   "metadata": {
    "execution": {
     "iopub.execute_input": "2024-12-07T17:01:03.656260Z",
     "iopub.status.busy": "2024-12-07T17:01:03.655848Z",
     "iopub.status.idle": "2024-12-07T17:01:03.669141Z",
     "shell.execute_reply": "2024-12-07T17:01:03.667662Z",
     "shell.execute_reply.started": "2024-12-07T17:01:03.656225Z"
    },
    "trusted": true
   },
   "outputs": [],
   "source": [
    "def _fit(model, log_dir):\n",
    "    early_stopping = EarlyStopping(monitor='loss', patience=2, restore_best_weights=True, verbose=1)\n",
    "    tbcb = TensorBoard(log_dir=f\"logs/2/{log_dir}\", histogram_freq=0)\n",
    "    model.compile(optimizer='adam', loss='categorical_crossentropy', metrics=['accuracy'] )\n",
    "    model.fit(x_train, y_train, validation_data=(x_val, y_val), epochs=max_epochs, batch_size=batch_size, callbacks=[early_stopping, tbcb], verbose=0)\n",
    "    loss, accuracy = model.evaluate(x_test, y_test)\n",
    "    print(f\"Test Accuracy: {accuracy:.4f}\")\n",
    "\n",
    "def _dense():\n",
    "    model = Sequential([\n",
    "        tf.keras.Input(shape=(28, 28, 1)),\n",
    "        Flatten(),\n",
    "        Dense(128, activation='relu'),\n",
    "        BatchNormalization(),\n",
    "        Dropout(0.2),\n",
    "        Dense(64, activation='relu'),\n",
    "        BatchNormalization(),\n",
    "        Dropout(0.2),\n",
    "        Dense(10, activation='softmax')\n",
    "    ])\n",
    "    return model\n",
    "\n",
    "def _conv():\n",
    "    model = Sequential([\n",
    "        tf.keras.Input(shape=(28, 28, 1)),\n",
    "        Conv2D(32, kernel_size=(3, 3), activation='relu'),\n",
    "        BatchNormalization(),\n",
    "        MaxPooling2D(pool_size=(2, 2)),\n",
    "        Dropout(0.2),\n",
    "        Conv2D(64, kernel_size=(3, 3), activation='relu'),\n",
    "        BatchNormalization(),\n",
    "        MaxPooling2D(pool_size=(2, 2)),\n",
    "        Dropout(0.2),\n",
    "        Flatten(),\n",
    "        Dense(128, activation='relu'),\n",
    "        Dense(10, activation='softmax')\n",
    "    ])\n",
    "    return model"
   ]
  },
  {
   "cell_type": "code",
   "execution_count": 4,
   "metadata": {
    "execution": {
     "iopub.execute_input": "2024-12-07T17:01:07.528421Z",
     "iopub.status.busy": "2024-12-07T17:01:07.528024Z",
     "iopub.status.idle": "2024-12-07T17:05:29.889750Z",
     "shell.execute_reply": "2024-12-07T17:05:29.888588Z",
     "shell.execute_reply.started": "2024-12-07T17:01:07.528388Z"
    },
    "trusted": true
   },
   "outputs": [
    {
     "name": "stdout",
     "output_type": "stream",
     "text": [
      "Dense:\n",
      "Restoring model weights from the end of the best epoch: 5.\n",
      "\u001b[1m313/313\u001b[0m \u001b[32m━━━━━━━━━━━━━━━━━━━━\u001b[0m\u001b[37m\u001b[0m \u001b[1m1s\u001b[0m 2ms/step - accuracy: 0.9663 - loss: 0.1073\n",
      "Test Accuracy: 0.9717\n",
      "\n",
      "Convolution:\n",
      "Restoring model weights from the end of the best epoch: 5.\n",
      "\u001b[1m313/313\u001b[0m \u001b[32m━━━━━━━━━━━━━━━━━━━━\u001b[0m\u001b[37m\u001b[0m \u001b[1m2s\u001b[0m 7ms/step - accuracy: 0.9816 - loss: 0.0632\n",
      "Test Accuracy: 0.9877\n"
     ]
    }
   ],
   "source": [
    "print(\"Dense:\")\n",
    "_fit(_dense(), \"dense\")\n",
    "\n",
    "print(\"\\nConvolution:\")\n",
    "_fit(_conv(), \"conv\")"
   ]
  },
  {
   "cell_type": "markdown",
   "metadata": {},
   "source": [
    "https://www.kaggle.com/discussions/general/151033"
   ]
  },
  {
   "cell_type": "code",
   "execution_count": 39,
   "metadata": {
    "execution": {
     "iopub.execute_input": "2024-12-07T11:19:03.824707Z",
     "iopub.status.busy": "2024-12-07T11:19:03.823573Z",
     "iopub.status.idle": "2024-12-07T11:19:09.865591Z",
     "shell.execute_reply": "2024-12-07T11:19:09.864424Z",
     "shell.execute_reply.started": "2024-12-07T11:19:03.824664Z"
    },
    "trusted": true
   },
   "outputs": [
    {
     "data": {
      "text/html": [
       "\n",
       "      <iframe id=\"tensorboard-frame-63eca91ba1a926e2\" width=\"100%\" height=\"800\" frameborder=\"0\">\n",
       "      </iframe>\n",
       "      <script>\n",
       "        (function() {\n",
       "          const frame = document.getElementById(\"tensorboard-frame-63eca91ba1a926e2\");\n",
       "          const url = new URL(\"/\", window.location);\n",
       "          const port = 6006;\n",
       "          if (port) {\n",
       "            url.port = port;\n",
       "          }\n",
       "          frame.src = url;\n",
       "        })();\n",
       "      </script>\n",
       "    "
      ],
      "text/plain": [
       "<IPython.core.display.HTML object>"
      ]
     },
     "metadata": {},
     "output_type": "display_data"
    }
   ],
   "source": [
    "%load_ext tensorboard\n",
    "%tensorboard --logdir_spec=dense:logs/2/dense/validation,conv:logs/2/conv/validation"
   ]
  }
 ],
 "metadata": {
  "kaggle": {
   "accelerator": "none",
   "dataSources": [],
   "dockerImageVersionId": 30804,
   "isGpuEnabled": false,
   "isInternetEnabled": true,
   "language": "python",
   "sourceType": "notebook"
  },
  "kernelspec": {
   "display_name": "Python 3",
   "language": "python",
   "name": "python3"
  },
  "language_info": {
   "codemirror_mode": {
    "name": "ipython",
    "version": 3
   },
   "file_extension": ".py",
   "mimetype": "text/x-python",
   "name": "python",
   "nbconvert_exporter": "python",
   "pygments_lexer": "ipython3",
   "version": "3.10.14"
  }
 },
 "nbformat": 4,
 "nbformat_minor": 4
}
